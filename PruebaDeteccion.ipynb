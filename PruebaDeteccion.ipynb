{
  "nbformat": 4,
  "nbformat_minor": 0,
  "metadata": {
    "colab": {
      "provenance": [],
      "gpuType": "T4",
      "authorship_tag": "ABX9TyPG/1h0xixJPEgThpYw4zMc",
      "include_colab_link": true
    },
    "kernelspec": {
      "name": "python3",
      "display_name": "Python 3"
    },
    "language_info": {
      "name": "python"
    },
    "accelerator": "GPU"
  },
  "cells": [
    {
      "cell_type": "markdown",
      "metadata": {
        "id": "view-in-github",
        "colab_type": "text"
      },
      "source": [
        "<a href=\"https://colab.research.google.com/github/Luis-Marquina210/Proyecto-con-SASS-Y-GULP/blob/master/PruebaDeteccion.ipynb\" target=\"_parent\"><img src=\"https://colab.research.google.com/assets/colab-badge.svg\" alt=\"Open In Colab\"/></a>"
      ]
    },
    {
      "cell_type": "code",
      "execution_count": null,
      "metadata": {
        "colab": {
          "base_uri": "https://localhost:8080/"
        },
        "id": "VBhTkN7H-0My",
        "outputId": "edf00fcb-021f-465f-ff9b-79f66e0608a3"
      },
      "outputs": [
        {
          "output_type": "stream",
          "name": "stderr",
          "text": [
            "Ultralytics YOLOv8.0.111 🚀 Python-3.10.11 torch-2.0.1+cu118 CUDA:0 (Tesla T4, 15102MiB)\n",
            "Setup complete ✅ (2 CPUs, 12.7 GB RAM, 23.3/78.2 GB disk)\n"
          ]
        }
      ],
      "source": [
        "#Instalamos las librerias de Yolov8\n",
        "%pip install ultralytics\n",
        "import ultralytics\n",
        "ultralytics.checks()"
      ]
    },
    {
      "cell_type": "code",
      "source": [
        "#Hacemos la llamada de nuestro datasets localizados en roboflow\n",
        "import torch\n",
        "torch.hub.download_url_to_file('https://universe.roboflow.com/ds/NmG3yUu1kh?key=AsaMUkoEXx', 'tmp.zip')\n",
        "!unzip -q tmp.zip -d datasets && rm tmp.zip  # unzip"
      ],
      "metadata": {
        "colab": {
          "base_uri": "https://localhost:8080/"
        },
        "id": "eBCtrVJM_AFZ",
        "outputId": "b1fad31e-4fee-4904-e241-87600ab3aa70"
      },
      "execution_count": null,
      "outputs": [
        {
          "output_type": "stream",
          "name": "stderr",
          "text": [
            "100%|██████████| 256M/256M [00:10<00:00, 25.3MB/s]\n"
          ]
        }
      ]
    },
    {
      "cell_type": "code",
      "source": [
        "# Entrenamiento del modelo mediante el aprendizaje yolov8n.pt y las etiquetas incluidas en el dataset\n",
        "!yolo task=detect mode=train model=yolov8n.pt data=/content/datasets/data.yaml epochs=3 imgsz=640"
      ],
      "metadata": {
        "colab": {
          "base_uri": "https://localhost:8080/"
        },
        "id": "UHPimPETAyOY",
        "outputId": "bbebfc72-a723-4a56-abc8-71e89a166475"
      },
      "execution_count": 1,
      "outputs": [
        {
          "output_type": "stream",
          "name": "stdout",
          "text": [
            "/bin/bash: yolo: command not found\n"
          ]
        }
      ]
    },
    {
      "cell_type": "code",
      "source": [
        "#Hacemos las validaciones de nuestro modelo mediante imagenes\n",
        "!yolo mode=val model=runs/detect/train/weights/best.pt data=/content/datasets/data.yaml"
      ],
      "metadata": {
        "colab": {
          "base_uri": "https://localhost:8080/"
        },
        "id": "7NS9MmS7LyNT",
        "outputId": "7f7c6384-cca8-4d7e-c07f-3826e7915f65"
      },
      "execution_count": 2,
      "outputs": [
        {
          "output_type": "stream",
          "name": "stdout",
          "text": [
            "/bin/bash: yolo: command not found\n"
          ]
        }
      ]
    },
    {
      "cell_type": "code",
      "source": [
        "#Creamos una predicción de nuestro modelo usando una direccion url de google\n",
        "!yolo predict model=runs/detect/train/weights/best.pt source='https://content.peat-cloud.com/w400/cercospora-leaf-spot-of-cotton-cotton-2.jpg'"
      ],
      "metadata": {
        "colab": {
          "base_uri": "https://localhost:8080/"
        },
        "id": "3bSNfumqT1bz",
        "outputId": "5c96c88f-adb1-4aeb-fb8f-d069b639ff21"
      },
      "execution_count": 3,
      "outputs": [
        {
          "output_type": "stream",
          "name": "stdout",
          "text": [
            "/bin/bash: yolo: command not found\n"
          ]
        }
      ]
    }
  ]
}